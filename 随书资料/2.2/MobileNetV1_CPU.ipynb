{
 "cells": [
  {
   "cell_type": "code",
   "execution_count": 79,
   "metadata": {},
   "outputs": [],
   "source": [
    "import keras\n",
    "from keras.datasets import mnist\n",
    "from keras.utils import to_categorical\n",
    "from keras.layers import Conv2D, Input, GlobalAveragePooling2D,Dense, Activation, Flatten, BatchNormalization\n",
    "from keras.applications.mobilenet import relu6, DepthwiseConv2D\n",
    "from keras import Model\n",
    "from keras import optimizers\n",
    "import matplotlib.pyplot as plt"
   ]
  },
  {
   "cell_type": "code",
   "execution_count": 65,
   "metadata": {},
   "outputs": [
    {
     "name": "stdout",
     "output_type": "stream",
     "text": [
      "(60000, 10)\n",
      "(10000, 10)\n"
     ]
    }
   ],
   "source": [
    "(train_x, train_y), (test_x, test_y) = mnist.load_data()\n",
    "train_x = train_x.reshape((60000,28,28,1)) / 255.0\n",
    "test_x = test_x.reshape((10000,28,28,1)) / 255.0\n",
    "\n",
    "train_y = keras.utils.to_categorical(train_y, num_classes = 10)\n",
    "test_y = keras.utils.to_categorical(test_y, num_classes = 10)\n",
    "print (train_y.shape)\n",
    "print (test_y.shape)"
   ]
  },
  {
   "cell_type": "markdown",
   "metadata": {},
   "source": [
    "#### DepthwiseConv2D\n",
    "```py\n",
    "class DepthwiseConv2D(Conv2D):\n",
    "    \"\"\"Depthwise separable 2D convolution.\n",
    "    Depthwise Separable convolutions consist in performing\n",
    "    just the first step in a depthwise spatial convolution\n",
    "    (which acts on each input channel separately).\n",
    "    It does not perform the pointwise convolution (second step).\n",
    "    The `depth_multiplier` argument controls how many\n",
    "    output channels are generated per input channel in the depthwise step.\n",
    "    # Arguments\n",
    "        kernel_size: An integer or tuple/list of 2 integers, specifying the\n",
    "            width and height of the 2D convolution window.\n",
    "            Can be a single integer to specify the same value for\n",
    "            all spatial dimensions.\n",
    "        strides: An integer or tuple/list of 2 integers,\n",
    "            specifying the strides of the convolution along the width and height.\n",
    "            Can be a single integer to specify the same value for\n",
    "            all spatial dimensions.\n",
    "            Specifying any stride value != 1 is incompatible with specifying\n",
    "            any `dilation_rate` value != 1.\n",
    "        padding: one of `\"valid\"` or `\"same\"` (case-insensitive).\n",
    "        depth_multiplier: The number of depthwise convolution output channels\n",
    "            for each input channel.\n",
    "            The total number of depthwise convolution output\n",
    "            channels will be equal to `filterss_in * depth_multiplier`.\n",
    "        data_format: A string,\n",
    "            one of `channels_last` (default) or `channels_first`.\n",
    "            The ordering of the dimensions in the inputs.\n",
    "            `channels_last` corresponds to inputs with shape\n",
    "            `(batch, height, width, channels)` while `channels_first`\n",
    "            corresponds to inputs with shape\n",
    "            `(batch, channels, height, width)`.\n",
    "            It defaults to the `image_data_format` value found in your\n",
    "            Keras config file at `~/.keras/keras.json`.\n",
    "            If you never set it, then it will be \"channels_last\".\n",
    "        activation: Activation function to use\n",
    "            (see [activations](../activations.md)).\n",
    "            If you don't specify anything, no activation is applied\n",
    "            (ie. \"linear\" activation: `a(x) = x`).\n",
    "        use_bias: Boolean, whether the layer uses a bias vector.\n",
    "        depthwise_initializer: Initializer for the depthwise kernel matrix\n",
    "            (see [initializers](../initializers.md)).\n",
    "        bias_initializer: Initializer for the bias vector\n",
    "            (see [initializers](../initializers.md)).\n",
    "        depthwise_regularizer: Regularizer function applied to\n",
    "            the depthwise kernel matrix\n",
    "            (see [regularizer](../regularizers.md)).\n",
    "        bias_regularizer: Regularizer function applied to the bias vector\n",
    "            (see [regularizer](../regularizers.md)).\n",
    "        activity_regularizer: Regularizer function applied to\n",
    "            the output of the layer (its \"activation\").\n",
    "            (see [regularizer](../regularizers.md)).\n",
    "        depthwise_constraint: Constraint function applied to\n",
    "            the depthwise kernel matrix\n",
    "            (see [constraints](../constraints.md)).\n",
    "        bias_constraint: Constraint function applied to the bias vector\n",
    "            (see [constraints](../constraints.md)).\n",
    "    # Input shape\n",
    "        4D tensor with shape:\n",
    "        `(batch, channels, rows, cols)` if data_format='channels_first'\n",
    "        or 4D tensor with shape:\n",
    "        `(batch, rows, cols, channels)` if data_format='channels_last'.\n",
    "    # Output shape\n",
    "        4D tensor with shape:\n",
    "        `(batch, filters, new_rows, new_cols)` if data_format='channels_first'\n",
    "        or 4D tensor with shape:\n",
    "        `(batch, new_rows, new_cols, filters)` if data_format='channels_last'.\n",
    "        `rows` and `cols` values might have changed due to padding.\n",
    "    \"\"\"\n",
    "```"
   ]
  },
  {
   "cell_type": "code",
   "execution_count": 8,
   "metadata": {},
   "outputs": [],
   "source": [
    "def MobileNetV1(input_shape, k):\n",
    "    inputs = Input(shape=input_shape)\n",
    "    x = Conv2D(filters=32, kernel_size=(3,3), strides=(2,2), padding='same', activation='relu')(inputs)\n",
    "    x = DepthwiseConv2D(kernel_size=(3,3),padding='same', activation='relu',)(x)\n",
    "    x = Conv2D(filters=64, kernel_size=(1,1),padding='same', activation='relu')(x)\n",
    "    x = DepthwiseConv2D(kernel_size=(3,3), padding='same', activation='relu',)(x)\n",
    "    x = Conv2D(filters=128, kernel_size=(1,1),padding='same', activation='relu')(x)\n",
    "    x = DepthwiseConv2D(kernel_size=(3,3), strides=(2,2),padding='same', activation='relu',)(x)\n",
    "    x = Conv2D(filters=128, kernel_size=(1,1),padding='same', activation='relu')(x)\n",
    "    x = DepthwiseConv2D(kernel_size=(3,3),padding='same', activation='relu',)(x)\n",
    "    x = Conv2D(filters=256, kernel_size=(1,1),padding='same', activation='relu')(x)\n",
    "    x = DepthwiseConv2D(kernel_size=(3,3), strides=(2,2),padding='same', activation='relu',)(x)\n",
    "    x = Conv2D(filters=256, kernel_size=(1,1),padding='same', activation='relu')(x)\n",
    "    x = DepthwiseConv2D(kernel_size=(3,3),padding='same', activation='relu',)(x)\n",
    "    x = Conv2D(filters=512, kernel_size=(1,1),padding='same', activation='relu')(x)\n",
    "    x = DepthwiseConv2D(kernel_size=(3,3), strides=(2,2),padding='same', activation='relu',)(x)\n",
    "    x = Conv2D(filters=512, kernel_size=(1,1),padding='same', activation='relu')(x)\n",
    "    x = DepthwiseConv2D(kernel_size=(3,3), strides=(2,2),padding='same', activation='relu',)(x)\n",
    "    x = Conv2D(filters=1024, kernel_size=(1,1),padding='same', activation='relu')(x)\n",
    "    x = DepthwiseConv2D(kernel_size=(3,3),padding='same', activation='relu',)(x)\n",
    "    x = Conv2D(filters=1024, kernel_size=(1,1),padding='same', activation='relu')(x)\n",
    "    x = GlobalAveragePooling2D()(x)\n",
    "    x = Dense(1024, activation='relu')(x)\n",
    "    x = Dense(k, activation='softmax')(x)\n",
    "    model = Model(inputs, x)\n",
    "    return model"
   ]
  },
  {
   "cell_type": "code",
   "execution_count": 11,
   "metadata": {},
   "outputs": [],
   "source": [
    "def NaiveConvNet(input_shape, k):\n",
    "    inputs = Input(shape=input_shape)\n",
    "    x = Conv2D(filters=32, kernel_size=(3,3), strides=(2,2), padding='same', activation='relu')(inputs)\n",
    "    x = Conv2D(filters=64, kernel_size=(3,3),padding='same', activation='relu')(x)\n",
    "    x = Conv2D(filters=128, kernel_size=(3,3),padding='same', activation='relu')(x)\n",
    "    x = Conv2D(filters=128, kernel_size=(3,3), strides=(2,2),padding='same', activation='relu')(x)\n",
    "    x = Conv2D(filters=256, kernel_size=(3,3),padding='same', activation='relu')(x)\n",
    "    x = Conv2D(filters=256, kernel_size=(3,3), strides=(2,2),padding='same', activation='relu')(x)\n",
    "    x = Conv2D(filters=512, kernel_size=(3,3),padding='same', activation='relu')(x)\n",
    "    x = Conv2D(filters=512, kernel_size=(3,3), strides=(2,2),padding='same', activation='relu')(x)\n",
    "    x = Conv2D(filters=1024, kernel_size=(3,3), strides=(2,2),padding='same', activation='relu')(x)\n",
    "    x = Conv2D(filters=1024, kernel_size=(3,3),padding='same', activation='relu')(x)\n",
    "    x = GlobalAveragePooling2D()(x)\n",
    "    x = Dense(1024, activation='relu')(x)\n",
    "    x = Dense(k, activation='softmax')(x)\n",
    "    model = Model(inputs, x)\n",
    "    return model"
   ]
  },
  {
   "cell_type": "code",
   "execution_count": 14,
   "metadata": {},
   "outputs": [
    {
     "name": "stdout",
     "output_type": "stream",
     "text": [
      "_________________________________________________________________\n",
      "Layer (type)                 Output Shape              Param #   \n",
      "=================================================================\n",
      "input_5 (InputLayer)         (None, 224, 224, 3)       0         \n",
      "_________________________________________________________________\n",
      "conv2d_35 (Conv2D)           (None, 112, 112, 32)      896       \n",
      "_________________________________________________________________\n",
      "depthwise_conv2d_22 (Depthwi (None, 112, 112, 32)      320       \n",
      "_________________________________________________________________\n",
      "conv2d_36 (Conv2D)           (None, 112, 112, 64)      2112      \n",
      "_________________________________________________________________\n",
      "depthwise_conv2d_23 (Depthwi (None, 112, 112, 64)      640       \n",
      "_________________________________________________________________\n",
      "conv2d_37 (Conv2D)           (None, 112, 112, 128)     8320      \n",
      "_________________________________________________________________\n",
      "depthwise_conv2d_24 (Depthwi (None, 56, 56, 128)       1280      \n",
      "_________________________________________________________________\n",
      "conv2d_38 (Conv2D)           (None, 56, 56, 128)       16512     \n",
      "_________________________________________________________________\n",
      "depthwise_conv2d_25 (Depthwi (None, 56, 56, 128)       1280      \n",
      "_________________________________________________________________\n",
      "conv2d_39 (Conv2D)           (None, 56, 56, 256)       33024     \n",
      "_________________________________________________________________\n",
      "depthwise_conv2d_26 (Depthwi (None, 28, 28, 256)       2560      \n",
      "_________________________________________________________________\n",
      "conv2d_40 (Conv2D)           (None, 28, 28, 256)       65792     \n",
      "_________________________________________________________________\n",
      "depthwise_conv2d_27 (Depthwi (None, 28, 28, 256)       2560      \n",
      "_________________________________________________________________\n",
      "conv2d_41 (Conv2D)           (None, 28, 28, 512)       131584    \n",
      "_________________________________________________________________\n",
      "depthwise_conv2d_28 (Depthwi (None, 14, 14, 512)       5120      \n",
      "_________________________________________________________________\n",
      "conv2d_42 (Conv2D)           (None, 14, 14, 512)       262656    \n",
      "_________________________________________________________________\n",
      "depthwise_conv2d_29 (Depthwi (None, 7, 7, 512)         5120      \n",
      "_________________________________________________________________\n",
      "conv2d_43 (Conv2D)           (None, 7, 7, 1024)        525312    \n",
      "_________________________________________________________________\n",
      "depthwise_conv2d_30 (Depthwi (None, 7, 7, 1024)        10240     \n",
      "_________________________________________________________________\n",
      "conv2d_44 (Conv2D)           (None, 7, 7, 1024)        1049600   \n",
      "_________________________________________________________________\n",
      "global_average_pooling2d_4 ( (None, 1024)              0         \n",
      "_________________________________________________________________\n",
      "dense_8 (Dense)              (None, 1024)              1049600   \n",
      "_________________________________________________________________\n",
      "dense_9 (Dense)              (None, 1000)              1025000   \n",
      "=================================================================\n",
      "Total params: 4,199,528\n",
      "Trainable params: 4,199,528\n",
      "Non-trainable params: 0\n",
      "_________________________________________________________________\n"
     ]
    }
   ],
   "source": [
    "MobileNet_v1_model = MobileNetV1((224,224,3), 1000)\n",
    "MobileNet_v1_model.summary()"
   ]
  },
  {
   "cell_type": "code",
   "execution_count": 15,
   "metadata": {},
   "outputs": [
    {
     "name": "stdout",
     "output_type": "stream",
     "text": [
      "_________________________________________________________________\n",
      "Layer (type)                 Output Shape              Param #   \n",
      "=================================================================\n",
      "input_6 (InputLayer)         (None, 224, 224, 3)       0         \n",
      "_________________________________________________________________\n",
      "conv2d_45 (Conv2D)           (None, 112, 112, 32)      896       \n",
      "_________________________________________________________________\n",
      "conv2d_46 (Conv2D)           (None, 112, 112, 64)      18496     \n",
      "_________________________________________________________________\n",
      "conv2d_47 (Conv2D)           (None, 112, 112, 128)     73856     \n",
      "_________________________________________________________________\n",
      "conv2d_48 (Conv2D)           (None, 56, 56, 128)       147584    \n",
      "_________________________________________________________________\n",
      "conv2d_49 (Conv2D)           (None, 56, 56, 256)       295168    \n",
      "_________________________________________________________________\n",
      "conv2d_50 (Conv2D)           (None, 28, 28, 256)       590080    \n",
      "_________________________________________________________________\n",
      "conv2d_51 (Conv2D)           (None, 28, 28, 512)       1180160   \n",
      "_________________________________________________________________\n",
      "conv2d_52 (Conv2D)           (None, 14, 14, 512)       2359808   \n",
      "_________________________________________________________________\n",
      "conv2d_53 (Conv2D)           (None, 7, 7, 1024)        4719616   \n",
      "_________________________________________________________________\n",
      "conv2d_54 (Conv2D)           (None, 7, 7, 1024)        9438208   \n",
      "_________________________________________________________________\n",
      "global_average_pooling2d_5 ( (None, 1024)              0         \n",
      "_________________________________________________________________\n",
      "dense_10 (Dense)             (None, 1024)              1049600   \n",
      "_________________________________________________________________\n",
      "dense_11 (Dense)             (None, 1000)              1025000   \n",
      "=================================================================\n",
      "Total params: 20,898,472\n",
      "Trainable params: 20,898,472\n",
      "Non-trainable params: 0\n",
      "_________________________________________________________________\n"
     ]
    }
   ],
   "source": [
    "NaiveConvNet_model = NaiveConvNet((224,224,3), 1000)\n",
    "NaiveConvNet_model.summary()"
   ]
  },
  {
   "cell_type": "code",
   "execution_count": 98,
   "metadata": {},
   "outputs": [],
   "source": [
    "def Simple_MobileNetV1(input_shape, k):\n",
    "    inputs = Input(shape=input_shape)\n",
    "    x = Conv2D(filters=32, kernel_size=(3,3), strides=(2,2), padding='same', activation='relu', name='m_conv_1')(inputs)\n",
    "    x = DepthwiseConv2D(kernel_size=(3,3),padding='same', activation='relu', name = 'm_dc_2')(x)\n",
    "    x = Conv2D(filters=64, kernel_size=(1,1),padding='same', activation='relu', name = 'm_pc_2')(x)\n",
    "    x = DepthwiseConv2D(kernel_size=(3,3), padding='same', activation='relu', name = 'm_dc_3')(x)\n",
    "    x = Conv2D(filters=128, kernel_size=(1,1),padding='same', activation='relu', name = 'm_pc_3')(x)\n",
    "    x = DepthwiseConv2D(kernel_size=(3,3), strides=(2,2),padding='same', activation='relu', name = 'm_dc_4')(x)\n",
    "    x = Conv2D(filters=128, kernel_size=(1,1),padding='same', activation='relu', name = 'm_pc_4')(x)\n",
    "    x = GlobalAveragePooling2D(name='m_gap')(x)\n",
    "    x = BatchNormalization(name='m_bn_1')(x)\n",
    "    x = Dense(128, activation='relu', name='m_fc1')(x)\n",
    "    x = BatchNormalization(name='m_bc_2')(x)\n",
    "    x = Dense(k, activation='softmax', name='m_output')(x)\n",
    "    model = Model(inputs, x)\n",
    "    return model"
   ]
  },
  {
   "cell_type": "code",
   "execution_count": 99,
   "metadata": {},
   "outputs": [
    {
     "name": "stdout",
     "output_type": "stream",
     "text": [
      "_________________________________________________________________\n",
      "Layer (type)                 Output Shape              Param #   \n",
      "=================================================================\n",
      "input_45 (InputLayer)        (None, 28, 28, 1)         0         \n",
      "_________________________________________________________________\n",
      "m_conv_1 (Conv2D)            (None, 14, 14, 32)        320       \n",
      "_________________________________________________________________\n",
      "m_dc_2 (DepthwiseConv2D)     (None, 14, 14, 32)        320       \n",
      "_________________________________________________________________\n",
      "m_pc_2 (Conv2D)              (None, 14, 14, 64)        2112      \n",
      "_________________________________________________________________\n",
      "m_dc_3 (DepthwiseConv2D)     (None, 14, 14, 64)        640       \n",
      "_________________________________________________________________\n",
      "m_pc_3 (Conv2D)              (None, 14, 14, 128)       8320      \n",
      "_________________________________________________________________\n",
      "m_dc_4 (DepthwiseConv2D)     (None, 7, 7, 128)         1280      \n",
      "_________________________________________________________________\n",
      "m_pc_4 (Conv2D)              (None, 7, 7, 128)         16512     \n",
      "_________________________________________________________________\n",
      "m_gap (GlobalAveragePooling2 (None, 128)               0         \n",
      "_________________________________________________________________\n",
      "m_bn_1 (BatchNormalization)  (None, 128)               512       \n",
      "_________________________________________________________________\n",
      "m_fc1 (Dense)                (None, 128)               16512     \n",
      "_________________________________________________________________\n",
      "m_bc_2 (BatchNormalization)  (None, 128)               512       \n",
      "_________________________________________________________________\n",
      "m_output (Dense)             (None, 10)                1290      \n",
      "=================================================================\n",
      "Total params: 48,330\n",
      "Trainable params: 47,818\n",
      "Non-trainable params: 512\n",
      "_________________________________________________________________\n"
     ]
    }
   ],
   "source": [
    "Simple_MobileNetV1_model = Simple_MobileNetV1((28,28,1), 10)\n",
    "Simple_MobileNetV1_model.summary()\n"
   ]
  },
  {
   "cell_type": "code",
   "execution_count": 100,
   "metadata": {},
   "outputs": [
    {
     "name": "stdout",
     "output_type": "stream",
     "text": [
      "Epoch 1/10\n",
      "60000/60000 [==============================] - 73s 1ms/step - loss: 0.5256 - acc: 0.8251\n",
      "Epoch 2/10\n",
      "60000/60000 [==============================] - 76s 1ms/step - loss: 0.2198 - acc: 0.9326\n",
      "Epoch 3/10\n",
      "60000/60000 [==============================] - 78s 1ms/step - loss: 0.1668 - acc: 0.9492\n",
      "Epoch 4/10\n",
      "60000/60000 [==============================] - 76s 1ms/step - loss: 0.1414 - acc: 0.9583\n",
      "Epoch 5/10\n",
      "60000/60000 [==============================] - 67s 1ms/step - loss: 0.1210 - acc: 0.9638\n",
      "Epoch 6/10\n",
      "60000/60000 [==============================] - 66s 1ms/step - loss: 0.1099 - acc: 0.9678\n",
      "Epoch 7/10\n",
      "60000/60000 [==============================] - 71s 1ms/step - loss: 0.1056 - acc: 0.9701\n",
      "Epoch 8/10\n",
      "60000/60000 [==============================] - 65s 1ms/step - loss: 0.0976 - acc: 0.9721\n",
      "Epoch 9/10\n",
      "60000/60000 [==============================] - 63s 1ms/step - loss: 0.0924 - acc: 0.9732\n",
      "Epoch 10/10\n",
      "60000/60000 [==============================] - 64s 1ms/step - loss: 0.0899 - acc: 0.9746\n"
     ]
    }
   ],
   "source": [
    "Simple_MobileNetV1_model.compile(optimizer=optimizers.RMSprop(0.001), loss='categorical_crossentropy', metrics=['acc'])\n",
    "Simple_MobileNetV1_history = Simple_MobileNetV1_model.fit(train_x, train_y, epochs=10, batch_size=8)"
   ]
  },
  {
   "cell_type": "code",
   "execution_count": 96,
   "metadata": {},
   "outputs": [],
   "source": [
    "def Simple_NaiveConvNet(input_shape, k):\n",
    "    inputs = Input(shape=input_shape)\n",
    "    x = Conv2D(filters=32, kernel_size=(3,3), strides=(2,2), padding='same', activation='relu', name='n_conv_1')(inputs)\n",
    "    x = Conv2D(filters=64, kernel_size=(3,3),padding='same', activation='relu', name='n_conv_2')(x)\n",
    "    x = Conv2D(filters=128, kernel_size=(3,3),padding='same', activation='relu', name='n_conv_3')(x)\n",
    "    x = Conv2D(filters=128, kernel_size=(3,3), strides=(2,2),padding='same', activation='relu', name='n_conv_4')(x)\n",
    "    x = GlobalAveragePooling2D(name='n_gap')(x)\n",
    "    x = BatchNormalization(name='n_bn_1')(x)\n",
    "    x = Dense(128, activation='relu', name='n_fc1')(x)\n",
    "    x = BatchNormalization(name='n_bc_2')(x)\n",
    "    x = Dense(k, activation='softmax', name='n_output')(x)\n",
    "    model = Model(inputs, x)\n",
    "    return model"
   ]
  },
  {
   "cell_type": "code",
   "execution_count": 97,
   "metadata": {},
   "outputs": [
    {
     "name": "stdout",
     "output_type": "stream",
     "text": [
      "_________________________________________________________________\n",
      "Layer (type)                 Output Shape              Param #   \n",
      "=================================================================\n",
      "input_44 (InputLayer)        (None, 28, 28, 1)         0         \n",
      "_________________________________________________________________\n",
      "n_conv_1 (Conv2D)            (None, 14, 14, 32)        320       \n",
      "_________________________________________________________________\n",
      "n_conv_2 (Conv2D)            (None, 14, 14, 64)        18496     \n",
      "_________________________________________________________________\n",
      "n_conv_3 (Conv2D)            (None, 14, 14, 128)       73856     \n",
      "_________________________________________________________________\n",
      "n_conv_4 (Conv2D)            (None, 7, 7, 128)         147584    \n",
      "_________________________________________________________________\n",
      "n_gap (GlobalAveragePooling2 (None, 128)               0         \n",
      "_________________________________________________________________\n",
      "n_bn_1 (BatchNormalization)  (None, 128)               512       \n",
      "_________________________________________________________________\n",
      "n_fc1 (Dense)                (None, 128)               16512     \n",
      "_________________________________________________________________\n",
      "n_bc_2 (BatchNormalization)  (None, 128)               512       \n",
      "_________________________________________________________________\n",
      "n_output (Dense)             (None, 10)                1290      \n",
      "=================================================================\n",
      "Total params: 259,082\n",
      "Trainable params: 258,570\n",
      "Non-trainable params: 512\n",
      "_________________________________________________________________\n"
     ]
    }
   ],
   "source": [
    "Simple_NaiveConvNet_model = Simple_NaiveConvNet((28,28,1), 10)\n",
    "Simple_NaiveConvNet_model.summary()"
   ]
  },
  {
   "cell_type": "code",
   "execution_count": 101,
   "metadata": {},
   "outputs": [
    {
     "name": "stdout",
     "output_type": "stream",
     "text": [
      "Epoch 1/10\n",
      "60000/60000 [==============================] - 139s 2ms/step - loss: 0.2385 - acc: 0.9263\n",
      "Epoch 2/10\n",
      "60000/60000 [==============================] - 146s 2ms/step - loss: 0.1085 - acc: 0.9688\n",
      "Epoch 3/10\n",
      "60000/60000 [==============================] - 139s 2ms/step - loss: 0.0833 - acc: 0.9765\n",
      "Epoch 4/10\n",
      "60000/60000 [==============================] - 141s 2ms/step - loss: 0.0720 - acc: 0.9797\n",
      "Epoch 5/10\n",
      "60000/60000 [==============================] - 141s 2ms/step - loss: 0.0686 - acc: 0.9805\n",
      "Epoch 6/10\n",
      "60000/60000 [==============================] - 140s 2ms/step - loss: 0.0593 - acc: 0.9834\n",
      "Epoch 7/10\n",
      "60000/60000 [==============================] - 134s 2ms/step - loss: 0.0531 - acc: 0.9852\n",
      "Epoch 8/10\n",
      "60000/60000 [==============================] - 138s 2ms/step - loss: 0.0513 - acc: 0.9858\n",
      "Epoch 9/10\n",
      "60000/60000 [==============================] - 142s 2ms/step - loss: 0.0476 - acc: 0.9869\n",
      "Epoch 10/10\n",
      "60000/60000 [==============================] - 160s 3ms/step - loss: 0.0463 - acc: 0.9877\n"
     ]
    }
   ],
   "source": [
    "Simple_NaiveConvNet_model.compile(optimizer=optimizers.RMSprop(0.001), loss='categorical_crossentropy', metrics=['acc'])\n",
    "Simple_NaiveConvNet_history = Simple_NaiveConvNet_model.fit(train_x, train_y, epochs=10, batch_size=8)"
   ]
  },
  {
   "cell_type": "code",
   "execution_count": 106,
   "metadata": {},
   "outputs": [],
   "source": [
    "s_acc = Simple_NaiveConvNet_history.history['acc']\n",
    "s_loss = Simple_NaiveConvNet_history.history['loss']\n",
    "\n",
    "m_acc = Simple_MobileNetV1_history.history['acc']\n",
    "m_loss = Simple_MobileNetV1_history.history['loss']\n",
    "\n",
    "epochs = range(1, len(s_acc)+1)"
   ]
  },
  {
   "cell_type": "code",
   "execution_count": 107,
   "metadata": {},
   "outputs": [
    {
     "data": {
      "text/plain": [
       "<matplotlib.legend.Legend at 0x12e715940>"
      ]
     },
     "execution_count": 107,
     "metadata": {},
     "output_type": "execute_result"
    },
    {
     "data": {
      "image/png": "[encoded data removed]",
      "text/plain": [
       "<Figure size 432x288 with 1 Axes>"
      ]
     },
     "metadata": {},
     "output_type": "display_data"
    }
   ],
   "source": [
    "plt.plot(epochs, s_acc, label='Naive ConvNet Acc')\n",
    "plt.plot(epochs, m_acc, label='MobileNet Acc')\n",
    "plt.legend()"
   ]
  },
  {
   "cell_type": "code",
   "execution_count": 108,
   "metadata": {},
   "outputs": [
    {
     "data": {
      "text/plain": [
       "<matplotlib.legend.Legend at 0x12e981710>"
      ]
     },
     "execution_count": 108,
     "metadata": {},
     "output_type": "execute_result"
    },
    {
     "data": {
      "image/png": "[encoded data removed]",
      "text/plain": [
       "<Figure size 432x288 with 1 Axes>"
      ]
     },
     "metadata": {},
     "output_type": "display_data"
    }
   ],
   "source": [
    "plt.plot(epochs, s_loss, label='Naive ConvNet loss')\n",
    "plt.plot(epochs, m_loss, label='MobileNet loss')\n",
    "plt.legend()"
   ]
  },
  {
   "cell_type": "code",
   "execution_count": null,
   "metadata": {},
   "outputs": [],
   "source": []
  }
 ],
 "metadata": {
  "kernelspec": {
   "display_name": "Python 2",
   "language": "python",
   "name": "python2"
  },
  "language_info": {
   "codemirror_mode": {
    "name": "ipython",
    "version": 3
   },
   "file_extension": ".py",
   "mimetype": "text/x-python",
   "name": "python",
   "nbconvert_exporter": "python",
   "pygments_lexer": "ipython3",
   "version": "3.6.5"
  }
 },
 "nbformat": 4,
 "nbformat_minor": 2
}
