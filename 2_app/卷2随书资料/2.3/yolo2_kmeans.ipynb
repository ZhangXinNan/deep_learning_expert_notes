{
 "cells": [
  {
   "cell_type": "code",
   "execution_count": 1,
   "metadata": {},
   "outputs": [],
   "source": [
    "import glob\n",
    "import xml.etree.ElementTree as ET\n",
    "\n",
    "import numpy as np"
   ]
  },
  {
   "cell_type": "code",
   "execution_count": 2,
   "metadata": {},
   "outputs": [],
   "source": [
    "# Path of Pascal VOC Trainval Annotation files\n",
    "ANNOTATIONS_PATH = \"./data/VOCtrainval_06-Nov-2007/VOCdevkit/VOC2007/Annotations/\""
   ]
  },
  {
   "cell_type": "code",
   "execution_count": 3,
   "metadata": {},
   "outputs": [],
   "source": [
    "def load_dataset(path):\n",
    "\tdataset = []\n",
    "\tfor xml_file in glob.glob(\"{}/*xml\".format(path)):\n",
    "\t\ttree = ET.parse(xml_file)\n",
    "\n",
    "\t\theight = int(tree.findtext(\"./size/height\"))\n",
    "\t\twidth = int(tree.findtext(\"./size/width\"))\n",
    "\n",
    "\t\tfor obj in tree.iter(\"object\"):\n",
    "\t\t\txmin = int(obj.findtext(\"bndbox/xmin\")) / width\n",
    "\t\t\tymin = int(obj.findtext(\"bndbox/ymin\")) / height\n",
    "\t\t\txmax = int(obj.findtext(\"bndbox/xmax\")) / width\n",
    "\t\t\tymax = int(obj.findtext(\"bndbox/ymax\")) / height\n",
    "\n",
    "\t\t\tdataset.append([xmax - xmin, ymax - ymin])\n",
    "\n",
    "\treturn np.array(dataset)"
   ]
  },
  {
   "cell_type": "code",
   "execution_count": 4,
   "metadata": {},
   "outputs": [],
   "source": [
    "data = load_dataset(ANNOTATIONS_PATH)"
   ]
  },
  {
   "cell_type": "code",
   "execution_count": 5,
   "metadata": {},
   "outputs": [
    {
     "name": "stdout",
     "output_type": "stream",
     "text": [
      "(15662, 2)\n"
     ]
    }
   ],
   "source": [
    "print (data.shape)"
   ]
  },
  {
   "cell_type": "code",
   "execution_count": 6,
   "metadata": {},
   "outputs": [],
   "source": [
    "def iou(box, clusters):\n",
    "    \"\"\"\n",
    "    Calculates the Intersection over Union (IoU) between a box and k clusters.\n",
    "    \"\"\"\n",
    "    x = np.minimum(clusters[:, 0], box[0])\n",
    "    y = np.minimum(clusters[:, 1], box[1])\n",
    "    if np.count_nonzero(x == 0) > 0 or np.count_nonzero(y == 0) > 0:\n",
    "        raise ValueError(\"Box has no area\")\n",
    "\n",
    "    intersection = x * y\n",
    "    box_area = box[0] * box[1]\n",
    "    cluster_area = clusters[:, 0] * clusters[:, 1]\n",
    "\n",
    "    iou = intersection / (box_area + cluster_area - intersection)\n",
    "\n",
    "    return iou"
   ]
  },
  {
   "cell_type": "code",
   "execution_count": 7,
   "metadata": {},
   "outputs": [],
   "source": [
    "def avg_iou(boxes, clusters):\n",
    "    \"\"\"\n",
    "    Calculates the average Intersection over Union (IoU) between a numpy array of boxes and k clusters.\n",
    "    \"\"\"\n",
    "    return np.mean([np.max(iou(boxes[i], clusters)) for i in range(boxes.shape[0])])"
   ]
  },
  {
   "cell_type": "code",
   "execution_count": 8,
   "metadata": {},
   "outputs": [],
   "source": [
    "def translate_boxes(boxes):\n",
    "    \"\"\"\n",
    "    Translates all the boxes to the origin.\n",
    "    \"\"\"\n",
    "    new_boxes = boxes.copy()\n",
    "    for row in range(new_boxes.shape[0]):\n",
    "        new_boxes[row][2] = np.abs(new_boxes[row][2] - new_boxes[row][0])\n",
    "        new_boxes[row][3] = np.abs(new_boxes[row][3] - new_boxes[row][1])\n",
    "    return np.delete(new_boxes, [0, 1], axis=1)"
   ]
  },
  {
   "cell_type": "code",
   "execution_count": 9,
   "metadata": {},
   "outputs": [],
   "source": [
    "def kmeans(boxes, k, dist=np.median):\n",
    "    \"\"\"\n",
    "    Calculates k-means clustering with the Intersection over Union (IoU) metric.\n",
    "    \"\"\"\n",
    "    rows = boxes.shape[0]\n",
    "\n",
    "    distances = np.empty((rows, k))\n",
    "    last_clusters = np.zeros((rows,))\n",
    "\n",
    "    # initiate centroids\n",
    "    clusters = boxes[np.random.choice(rows, k, replace=False)]\n",
    "\n",
    "    while True:\n",
    "        for row in range(rows):\n",
    "            distances[row] = 1 - iou(boxes[row], clusters)\n",
    "\n",
    "        nearest_clusters = np.argmin(distances, axis=1)\n",
    "\n",
    "        if (last_clusters == nearest_clusters).all():\n",
    "            break\n",
    "\n",
    "        for cluster in range(k):\n",
    "            clusters[cluster] = dist(boxes[nearest_clusters == cluster], axis=0)\n",
    "\n",
    "        last_clusters = nearest_clusters\n",
    "\n",
    "    return clusters"
   ]
  },
  {
   "cell_type": "code",
   "execution_count": 10,
   "metadata": {},
   "outputs": [],
   "source": [
    "out_5 = kmeans(data, k=5)"
   ]
  },
  {
   "cell_type": "code",
   "execution_count": 11,
   "metadata": {},
   "outputs": [
    {
     "name": "stdout",
     "output_type": "stream",
     "text": [
      "Accuracy: 60.07%\n",
      "Boxes:\n",
      " [[0.342      0.49866667]\n",
      " [0.162      0.3042328 ]\n",
      " [0.09       0.14418605]\n",
      " [0.75466667 0.76276276]\n",
      " [0.038      0.06933333]]\n",
      "Ratios:\n",
      " [0.53, 0.55, 0.62, 0.69, 0.99]\n"
     ]
    }
   ],
   "source": [
    "print(\"Accuracy: {:.2f}%\".format(avg_iou(data, out_5) * 100))\n",
    "print(\"Boxes:\\n {}\".format(out_5))\n",
    "\n",
    "ratios = np.around(out_5[:, 0] / out_5[:, 1], decimals=2).tolist()\n",
    "print(\"Ratios:\\n {}\".format(sorted(ratios)))"
   ]
  },
  {
   "cell_type": "code",
   "execution_count": null,
   "metadata": {},
   "outputs": [],
   "source": [
    "out_9 = kmeans(data, k=9)"
   ]
  },
  {
   "cell_type": "code",
   "execution_count": 22,
   "metadata": {},
   "outputs": [
    {
     "name": "stdout",
     "output_type": "stream",
     "text": [
      "Accuracy: 66.99%\n",
      "Boxes:\n",
      " [[0.238      0.23466667]\n",
      " [0.122      0.10933333]\n",
      " [0.312      0.65066667]\n",
      " [0.092      0.25866667]\n",
      " [0.052      0.13855422]\n",
      " [0.52533333 0.40533333]\n",
      " [0.038      0.05866667]\n",
      " [0.78       0.80225   ]\n",
      " [0.168      0.42133333]]\n",
      "Ratios:\n",
      " [0.36, 0.38, 0.4, 0.48, 0.65, 0.97, 1.01, 1.12, 1.3]\n"
     ]
    }
   ],
   "source": [
    "print(\"Accuracy: {:.2f}%\".format(avg_iou(data, out_9) * 100))\n",
    "print(\"Boxes:\\n {}\".format(out_9))\n",
    "\n",
    "ratios = np.around(out_9[:, 0] / out_9[:, 1], decimals=2).tolist()\n",
    "print(\"Ratios:\\n {}\".format(sorted(ratios)))"
   ]
  },
  {
   "cell_type": "code",
   "execution_count": null,
   "metadata": {},
   "outputs": [],
   "source": []
  }
 ],
 "metadata": {
  "kernelspec": {
   "display_name": "Python 3",
   "language": "python",
   "name": "python3"
  },
  "language_info": {
   "codemirror_mode": {
    "name": "ipython",
    "version": 3
   },
   "file_extension": ".py",
   "mimetype": "text/x-python",
   "name": "python",
   "nbconvert_exporter": "python",
   "pygments_lexer": "ipython3",
   "version": "3.6.4"
  }
 },
 "nbformat": 4,
 "nbformat_minor": 2
}
